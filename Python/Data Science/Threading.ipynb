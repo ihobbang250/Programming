{
 "cells": [
  {
   "cell_type": "code",
   "execution_count": 3,
   "metadata": {},
   "outputs": [
    {
     "name": "stdout",
     "output_type": "stream",
     "text": [
      "[메인] start\n",
      "[매수] 데이터 요청 중...\n",
      "[매도] 데이터 요청 중...\n",
      "[매도] 데이터 분석 중...\n",
      "[매수] 데이터 분석 중...\n",
      "[매도] 완료[매수] 완료\n",
      "[매수] 데이터 요청 중...\n",
      "\n",
      "[매도] 데이터 요청 중...\n",
      "[매수] 데이터 분석 중...\n",
      "[매도] 데이터 분석 중...\n",
      "[매도] 완료[매수] 완료\n",
      "[매수] 데이터 요청 중...\n",
      "\n",
      "[매도] 데이터 요청 중...\n",
      "[매도] 데이터 분석 중...[매수] 데이터 분석 중...\n",
      "\n",
      "[매도] 완료[매수] 완료\n",
      "[매수] 데이터 요청 중...\n",
      "\n",
      "[매도] 데이터 요청 중...\n",
      "[매수] 데이터 분석 중...[매도] 데이터 분석 중...\n",
      "\n",
      "[매수] 완료[매도] 완료\n",
      "[매도] 데이터 요청 중...\n",
      "\n",
      "[매수] 데이터 요청 중...\n",
      "[매도] 데이터 분석 중...[매수] 데이터 분석 중...\n",
      "\n",
      "[매도] 완료[매수] 완료\n",
      "\n",
      "[메인] end\n"
     ]
    }
   ],
   "source": [
    "import threading\n",
    "import time\n",
    "\n",
    "# 매수 스레드\n",
    "def buyer():\n",
    "    for i in range(5):\n",
    "        print(\"[매수] 데이터 요청 중...\")\n",
    "        time.sleep(1)\n",
    "        print(\"[매수] 데이터 분석 중...\")\n",
    "        time.sleep(1)\n",
    "        print(\"[매수] 완료\")\n",
    "        \n",
    "        \n",
    "# 매도 스레드        \n",
    "def seller():\n",
    "    for i in range(5):\n",
    "        print(\"[매도] 데이터 요청 중...\")\n",
    "        time.sleep(1)\n",
    "        print(\"[매도] 데이터 분석 중...\")\n",
    "        time.sleep(1)\n",
    "        print(\"[매도] 완료\")\n",
    "        \n",
    "        \n",
    "#메인 스레드\n",
    "print(\"[메인] start\")\n",
    "buyer = threading.Thread(target=buyer)\n",
    "seller = threading.Thread(target=seller)\n",
    "buyer.start()\n",
    "seller.start()\n",
    "\n",
    "buyer.join() # 메인 스레드 대기\n",
    "seller.join()\n",
    "print(\"[메인] end\")"
   ]
  }
 ],
 "metadata": {
  "kernelspec": {
   "display_name": "main",
   "language": "python",
   "name": "python3"
  },
  "language_info": {
   "codemirror_mode": {
    "name": "ipython",
    "version": 3
   },
   "file_extension": ".py",
   "mimetype": "text/x-python",
   "name": "python",
   "nbconvert_exporter": "python",
   "pygments_lexer": "ipython3",
   "version": "3.10.8"
  },
  "orig_nbformat": 4,
  "vscode": {
   "interpreter": {
    "hash": "088249665a81e93c8036df710d5b8cf66018793aa44d5d95f913d7290e7bc9d8"
   }
  }
 },
 "nbformat": 4,
 "nbformat_minor": 2
}
