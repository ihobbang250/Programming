{
 "cells": [
  {
   "cell_type": "code",
   "execution_count": 11,
   "metadata": {},
   "outputs": [
    {
     "name": "stdout",
     "output_type": "stream",
     "text": [
      "2222\n",
      "1. 7888\n",
      "2. 1234\n",
      "3. 9999\n",
      "4. 2222\n",
      "010-2343-****\n"
     ]
    }
   ],
   "source": [
    "import re\n",
    "\n",
    "# https://regexr.com/ -> regex convert\n",
    "\n",
    "# matching string single\n",
    "str1 = '010-2343-3333'\n",
    "result1 = re.match('\\d{2,3}-\\d{3,4}-(\\d{4})$', str1)\n",
    "print(result1.group(1))\n",
    "\n",
    "# matching string multi\n",
    "str2 = '010-2343-7888, 010-2343-1234, 010-2343-9999, 010-2343-2222'\n",
    "results = re.finditer('\\d{2,3}-\\d{3,4}-(\\d{4})(?=)', str2)\n",
    "\n",
    "for idx, result2 in enumerate(results, 1):\n",
    "    print(f'{idx}. {result2.group(1)}')\n",
    "\n",
    "# Substitution\n",
    "str3 = '010-2343-3333'\n",
    "result3 = re.sub('(?<=\\d{3}-\\d{4}-)\\d{4}', '****', str3)\n",
    "print(result3)"
   ]
  },
  {
   "cell_type": "code",
   "execution_count": 24,
   "metadata": {},
   "outputs": [
    {
     "name": "stdout",
     "output_type": "stream",
     "text": [
      "2022/08/08 True\n",
      "1000/01/01 True\n",
      "9999/12/31 True\n",
      "900/02/02 False\n",
      "12000/10/26 False\n",
      "2021/13/01 False\n",
      "2023/2/02 False\n",
      "2024/06/3 False\n",
      "2023/06/35 False\n"
     ]
    }
   ],
   "source": [
    "# 날짜 형식 추출\n",
    "# yyyy/mm/dd\n",
    "# 날짜 범위 제한 \n",
    "# year 1000~9999, month 1~12, day 1~31\n",
    "\n",
    "datas = [\n",
    "'2022/08/08',\n",
    "'1000/01/01',\n",
    "'9999/12/31',\n",
    "'900/02/02',\n",
    "'12000/10/26',\n",
    "'2021/13/01',\n",
    "'2023/2/02',\n",
    "'2024/06/3',\n",
    "'2023/06/35'\n",
    "]\n",
    "\n",
    "regex = '^\\d{4}/(0[1-9]|1[1-2])/(0[1-9]|[1-2][0-9]|3[0-1])$'\n",
    "\n",
    "for data in datas:\n",
    "    matchObj = re.match(regex, data)\n",
    "    result_bool = (lambda x: True if x != None else False)(matchObj)\n",
    "    print(f'{data} {result_bool}')"
   ]
  },
  {
   "cell_type": "code",
   "execution_count": 28,
   "metadata": {},
   "outputs": [
    {
     "name": "stdout",
     "output_type": "stream",
     "text": [
      "325hoya@naver.com, True\n",
      "@naver.com, False\n",
      "s32_ri@naver.com, True\n",
      "sad-23@naver.co.kr, True\n"
     ]
    }
   ],
   "source": [
    "regex2 = re.compile('^[\\w-]+@[a-zA-z0-9-]+\\.[a-zA-z0-9-.].+$')\n",
    "\n",
    "datas2 = ['325hoya@naver.com', '@naver.com', 's32_ri@naver.com', 'sad-23@naver.co.kr']\n",
    "\n",
    "for data in datas2:\n",
    "    matchObj = regex2.match(data)\n",
    "    result_bool = (lambda x: True if x != None else False)(matchObj)\n",
    "    print(f'{data}, {result_bool}')"
   ]
  }
 ],
 "metadata": {
  "kernelspec": {
   "display_name": "main",
   "language": "python",
   "name": "python3"
  },
  "language_info": {
   "codemirror_mode": {
    "name": "ipython",
    "version": 3
   },
   "file_extension": ".py",
   "mimetype": "text/x-python",
   "name": "python",
   "nbconvert_exporter": "python",
   "pygments_lexer": "ipython3",
   "version": "3.10.8"
  },
  "orig_nbformat": 4,
  "vscode": {
   "interpreter": {
    "hash": "088249665a81e93c8036df710d5b8cf66018793aa44d5d95f913d7290e7bc9d8"
   }
  }
 },
 "nbformat": 4,
 "nbformat_minor": 2
}
