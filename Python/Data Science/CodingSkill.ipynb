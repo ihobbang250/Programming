{
 "cells": [
  {
   "cell_type": "code",
   "execution_count": 14,
   "metadata": {},
   "outputs": [
    {
     "name": "stdout",
     "output_type": "stream",
     "text": [
      "[프로브]이 생성되었습니다.\n",
      "[질럿]이 생성되었습니다.\n",
      "[드라군]이 생성되었습니다.\n",
      "[프로브] 체력: [20] 방어막: [4] 공격력: [5]\n",
      "7\n",
      "생성된 유닛 개수 : [3]개\n"
     ]
    }
   ],
   "source": [
    "#Class Exmaple\n",
    "\n",
    "# Unit info\n",
    "unit_info = {\n",
    "    \"probe\" : {\n",
    "        \"name\" : \"프로브\",\n",
    "        \"mineral\" : 50,\n",
    "        \"gas\" : 0,\n",
    "        \"hp\" : 20,\n",
    "        \"shield\" : 20,\n",
    "        \"demage\" : 5\n",
    "    },\n",
    "    \"zealot\" : {\n",
    "        \"name\" : \"질럿\",\n",
    "        \"mineral\" : 100,\n",
    "        \"gas\" : 0,\n",
    "        \"hp\" : 100,\n",
    "        \"shield\" : 60,\n",
    "        \"demage\" : 16\n",
    "        \n",
    "    },\n",
    "    \"dragoon\" : {\n",
    "        \"name\" : \"드라군\",\n",
    "        \"mineral\" : 125,\n",
    "        \"gas\" : 50,\n",
    "        \"hp\" : 100,\n",
    "        \"shield\" : 80,\n",
    "        \"demage\" : 20\n",
    "    }\n",
    "}\n",
    "\n",
    "\n",
    "class Unit:\n",
    "    \n",
    "    count = 0 # class\n",
    "    \n",
    "    def __init__(self, name, hp, shield, demage):\n",
    "        self.name = name\n",
    "        self.hp = hp\n",
    "        self.shield = shield\n",
    "        self.demage = demage\n",
    "        Unit.count += 1\n",
    "        print(f\"[{self.name}]이 생성되었습니다.\")\n",
    "    \n",
    "    # Magic method\n",
    "    # Using in special case\n",
    "    # str -> print object\n",
    "    def __str__(self): \n",
    "        return f\"[{self.name}] 체력: [{self.hp}] 방어막: [{self.shield}] 공격력: [{self.demage}]\"\n",
    "    \n",
    "    # Instance method\n",
    "    def hit(self, demage):\n",
    "        if self.shield >= demage:\n",
    "            self.shield -= demage\n",
    "            demage = 0\n",
    "        else:\n",
    "            demage -= self.shield\n",
    "            self.shield = 0\n",
    "        \n",
    "        if demage > 0:\n",
    "            if demage >= self.hp:\n",
    "                self.hp = 0\n",
    "            else:\n",
    "                self.hp -= demage\n",
    "    \n",
    "    # Class method \n",
    "    # Approach to class attribution\n",
    "    @classmethod\n",
    "    def print_count(cls):\n",
    "        print(f\"생성된 유닛 개수 : [{cls.count}]개\")\n",
    "\n",
    "    #static method\n",
    "    # No need to make instance\n",
    "    @staticmethod\n",
    "    def add(x, y):\n",
    "        return x + y\n",
    "     \n",
    "\n",
    "probe = Unit(\"프로브\", 20, 20, 5)\n",
    "zealot = Unit(\"질럿\", 100, 60, 16)\n",
    "dragoon = Unit(\"드라군\", 100, 80, 20)\n",
    "\n",
    "probe.hit(16)\n",
    "print(probe)\n",
    "print(Unit.add(3, 4))\n",
    "Unit.print_count()"
   ]
  },
  {
   "cell_type": "code",
   "execution_count": 4,
   "metadata": {},
   "outputs": [
    {
     "name": "stdout",
     "output_type": "stream",
     "text": [
      "[2, 5, 7]\n",
      "[2, 5, 7]\n"
     ]
    }
   ],
   "source": [
    "#List Comprehensions & Lambda & fliter Example\n",
    "a = [2, 5, 7, -2, -12]\n",
    "k1 = [i for i in a if i >= 0]\n",
    "k2 = list(filter(lambda x : x >= 0, a))\n",
    "\n",
    "print(k1)\n",
    "print(k2)"
   ]
  }
 ],
 "metadata": {
  "kernelspec": {
   "display_name": "main",
   "language": "python",
   "name": "python3"
  },
  "language_info": {
   "codemirror_mode": {
    "name": "ipython",
    "version": 3
   },
   "file_extension": ".py",
   "mimetype": "text/x-python",
   "name": "python",
   "nbconvert_exporter": "python",
   "pygments_lexer": "ipython3",
   "version": "3.10.8"
  },
  "orig_nbformat": 4,
  "vscode": {
   "interpreter": {
    "hash": "088249665a81e93c8036df710d5b8cf66018793aa44d5d95f913d7290e7bc9d8"
   }
  }
 },
 "nbformat": 4,
 "nbformat_minor": 2
}
