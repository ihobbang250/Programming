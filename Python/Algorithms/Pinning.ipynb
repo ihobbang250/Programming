{
 "cells": [
  {
   "cell_type": "code",
   "execution_count": null,
   "metadata": {},
   "outputs": [],
   "source": [
    "N = int(input())\n",
    "NumList = [list(map(int, input().split())) for _ in range(N)]\n",
    "S, F, L = [], [], [] # S: 구간의 시작점, F: 구간의 종료점, L: 한 못당 막대의 수\n",
    "j, k, cnt = 0, 0, 0\n",
    "\n",
    "NumList.sort(key = lambda x: x[0]) # O(nlogn), 시작점이 가장 빠른 막대 기준 정렬\n",
    "\n",
    "for i in range(N): #O(n)\n",
    "    S.append(NumList[i][0]) # 시작점, 종료점 각기 따로 분류\n",
    "    F.append(NumList[i][1])\n",
    "\n",
    "F.sort(reverse=False) # 종료점 오름차순 정렬\n",
    "\n",
    "# 구간을 만날시 -> 못이 통과하는 막대의 수 1개 증가한다\n",
    "# 구간을 이탈시 -> 못이 통과하는 막대의 수 1개 감소한다\n",
    "# 못의 포인트를 1씩 증가시키면서 구간 만나는 경우, 이탈의 경우를 각기 따로 본다.\n",
    "for i in range(S[0], F[-1]+1): # i는 못이 꽂힐 포인트, 전체 구간의 시작점부터 가장 큰 종료점까지 순회한다\n",
    "    while (i == S[j]): # 가장 빠른 시작점부터 정렬되있기에, 가장 작은 시작점부터 순회한다.\n",
    "        cnt += 1 # 시작점을 만날 경우, 카운트 1개 증가\n",
    "        if j == (len(S) - 1):  # 맨 마지막 구간인경우, 루프 탐색 종료\n",
    "            break\n",
    "        j += 1\n",
    "    while (i > F[k]): # 종료점 오름차순 정렬되있기에, 가장 작은 종료점부터 순회한다.\n",
    "        cnt -= 1 # 종료점 만날시에 이탈로 간주.\n",
    "        if i == (len(F) - 1): # 맨 마지막 경우, 루프 탐색 종료\n",
    "            break\n",
    "        k += 1\n",
    "    L.append(cnt) # 현재 포인트에서 만나는 경우, 이탈의 경우를 합친 카운트 수를 저장\n",
    "\n",
    "print(max(L)) # 저장된 카운트 수 중 가장 큰 수를 구한다.\n",
    "\n",
    "# Total : O(nlogn)"
   ]
  },
  {
   "cell_type": "code",
   "execution_count": 2,
   "metadata": {},
   "outputs": [
    {
     "name": "stdout",
     "output_type": "stream",
     "text": [
      "[3, 5, 6]\n"
     ]
    }
   ],
   "source": [
    "N = int(input())\n",
    "NumList = [list(map(int, input().split())) for _ in range(N)]\n",
    "j = 0\n",
    "\n",
    "NumList.sort(key=lambda x: x[1]) # O(nlogn), 종료점이 가장 빠른 막대 기준 정렬\n",
    "\n",
    "L = [NumList[0][1]] # 가장 빠른 종료점 시작포인트, 못의 포인트들을 저장한다\n",
    "\n",
    "# 겹치는 구간이 최대가 되게끔 하는 곳에 못을 꽂는다. -> 겹치는 구간 가장 오른쪽 -> 종료점\n",
    "# 꽂아야하는 남은 구간이 최소가 된다.\n",
    "for i in range(1, N): # O(n)\n",
    "    if NumList[j][1] >= NumList[i][0]: #겹치는 경우 제일 오른쪽에 못을 꽂는다\n",
    "        if (L[-1] != NumList[j][1]):\n",
    "            L.append(NumList[j][1])\n",
    "    else:\n",
    "        j = i\n",
    "        if (L[-1] != NumList[j][1]): #겹치지 않는 경우 구간을 변경해 못을 꽂는다\n",
    "            L.append(NumList[j][1])\n",
    "        \n",
    "print(len(L)) \n",
    "\n",
    "# Total : O(nlogn)"
   ]
  }
 ],
 "metadata": {
  "kernelspec": {
   "display_name": "Python 3.10.4 64-bit",
   "language": "python",
   "name": "python3"
  },
  "language_info": {
   "codemirror_mode": {
    "name": "ipython",
    "version": 3
   },
   "file_extension": ".py",
   "mimetype": "text/x-python",
   "name": "python",
   "nbconvert_exporter": "python",
   "pygments_lexer": "ipython3",
   "version": "3.10.4 (tags/v3.10.4:9d38120, Mar 23 2022, 23:13:41) [MSC v.1929 64 bit (AMD64)]"
  },
  "orig_nbformat": 4,
  "vscode": {
   "interpreter": {
    "hash": "fb4569285eef3a3450cb62085a5b1e0da4bce0af555edc33dcf29baf3acc1368"
   }
  }
 },
 "nbformat": 4,
 "nbformat_minor": 2
}
