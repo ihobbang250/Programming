{
 "cells": [
  {
   "cell_type": "code",
   "execution_count": null,
   "metadata": {},
   "outputs": [],
   "source": [
    "W = int(input())\n",
    "n = int(input())\n",
    "in_w = list(map(int, input().split()))\n",
    "in_p = list(map(int, input().split()))\n",
    "\n",
    "include = [False] * (n+1)\n",
    "maxprofit = 0\n",
    "numbest = 0\n",
    "bestset = []\n",
    "pair = []\n",
    "\n",
    "for x, y in zip(in_w, in_p):\n",
    "    pair.append((x, y))\n",
    "\n",
    "pair.sort(key= lambda x: round(x[1]/x[0], 7), reverse = True) # (size , profit)pair\n",
    "sort_w = [x[0] for x in pair]\n",
    "sort_p = [x[1] for x in pair]\n",
    " \n",
    "sort_w.insert(0, 0)\n",
    "sort_p.insert(0, 0)\n",
    "\n",
    "#print(sort_w)\n",
    "#print(sort_p)\n",
    "\n",
    "def knapsack3 (i, profit, weight):\n",
    "    global maxprofit, numbest, bestset\n",
    "    if (weight <= W and profit > maxprofit):\n",
    "        maxprofit = profit\n",
    "        numbest = i\n",
    "        bestset = include[:]\n",
    "    if (promising(i, profit, weight)):\n",
    "        include[i + 1] = True\n",
    "        knapsack3(i + 1, profit + sort_p[i+1], weight + sort_w[i+1])\n",
    "        include[i + 1] = False\n",
    "        knapsack3(i + 1, profit, weight)\n",
    "\n",
    "def promising (i, profit, weight):\n",
    "    if (weight > W):\n",
    "        return False\n",
    "    else:\n",
    "        j = i + 1\n",
    "        bound = profit\n",
    "        totweight = weight\n",
    "        while (j <= n and totweight + sort_w[j] <= W):\n",
    "            totweight += sort_w[j]\n",
    "            bound += sort_p[j]\n",
    "            j += 1\n",
    "        k = j\n",
    "        if (k <= n):\n",
    "            bound += (W - totweight) * sort_p[k] / sort_w[k]\n",
    "        return bound > maxprofit\n",
    "\n",
    "\n",
    "knapsack3(0, 0, 0)\n",
    "#print(bestset[1:len(bestset)])\n",
    "result = 0\n",
    "for j in range(n):\n",
    "    if (bestset[j] == True):\n",
    "        result += sort_p[j]\n",
    "print(result)"
   ]
  },
  {
   "cell_type": "code",
   "execution_count": null,
   "metadata": {},
   "outputs": [],
   "source": [
    "W = int(input())\n",
    "n = int(input())\n",
    "w = list(map(int, input().split()))\n",
    "p = list(map(int, input().split()))\n",
    "\n",
    "include = [False] * (n+1)\n",
    "maxprofit = 0\n",
    "numbest = 0\n",
    "bestset = []\n",
    "pair = []\n",
    "\n",
    "w.insert(0, 0)\n",
    "p.insert(0, 0)\n",
    "\n",
    "def knapsack2(i, W, w, p):\n",
    "    if (i <= 0 or W <= 0):\n",
    "        return 0\n",
    "    if (w[i] > W):\n",
    "        value = knapsack2(i - 1, W, w, p)\n",
    "        return value\n",
    "    else: # w[i] <= W\n",
    "        left = knapsack2(i - 1, W, w, p)\n",
    "        right = knapsack2(i - 1, W - w[i], w, p)\n",
    "        return max(left, p[i] + right)\n",
    "\n",
    "profit = knapsack2(len(w)-1, W, w, p)\n",
    "print(profit)"
   ]
  },
  {
   "cell_type": "code",
   "execution_count": null,
   "metadata": {},
   "outputs": [],
   "source": [
    "from fractions import Fraction\n",
    "W = int(input())\n",
    "N = int(input())\n",
    "in_w = list(map(int, input().split()))\n",
    "in_p = list(map(int, input().split()))\n",
    "\n",
    "knap = [[0 for _ in range(W+1)] for _ in range(N+1)]\n",
    "pair = []\n",
    "l = []\n",
    "for x, y in zip(in_w, in_p):\n",
    "    pair.append((x, y)) # (size, profit)pair\n",
    "\n",
    "l = sorted(pair, key= lambda x: Fraction(x[1], x[0]), reverse = True)\n",
    "print(pair)\n",
    "print(l)\n",
    "sort_w = [x[0] for x in pair]\n",
    "sort_p = [x[1] for x in pair]\n",
    "\n",
    "for i in range(N+1):\n",
    "    for j in range(W+1):\n",
    "        if sort_w[i-1] <= j: \n",
    "            knap[i][j] = max(sort_p[i-1] + knap[i-1][j-sort_w[i-1]],  knap[i-1][j]) \n",
    "        else: \n",
    "            knap[i][j] = knap[i-1][j]\n",
    "\n",
    "k = knap.pop()\n",
    "print(k.pop())"
   ]
  },
  {
   "cell_type": "code",
   "execution_count": 7,
   "metadata": {},
   "outputs": [
    {
     "data": {
      "text/plain": [
       "2"
      ]
     },
     "execution_count": 7,
     "metadata": {},
     "output_type": "execute_result"
    }
   ],
   "source": [
    "round(2.5)\n"
   ]
  },
  {
   "cell_type": "code",
   "execution_count": 8,
   "metadata": {},
   "outputs": [
    {
     "data": {
      "text/plain": [
       "2"
      ]
     },
     "execution_count": 8,
     "metadata": {},
     "output_type": "execute_result"
    }
   ],
   "source": [
    "round(1.5)"
   ]
  },
  {
   "cell_type": "code",
   "execution_count": 6,
   "metadata": {},
   "outputs": [
    {
     "data": {
      "text/plain": [
       "4"
      ]
     },
     "execution_count": 6,
     "metadata": {},
     "output_type": "execute_result"
    }
   ],
   "source": [
    "round(3.5)"
   ]
  },
  {
   "cell_type": "code",
   "execution_count": 9,
   "metadata": {},
   "outputs": [
    {
     "data": {
      "text/plain": [
       "4"
      ]
     },
     "execution_count": 9,
     "metadata": {},
     "output_type": "execute_result"
    }
   ],
   "source": [
    "round(4.5)"
   ]
  }
 ],
 "metadata": {
  "kernelspec": {
   "display_name": "Python 3.10.4 64-bit",
   "language": "python",
   "name": "python3"
  },
  "language_info": {
   "codemirror_mode": {
    "name": "ipython",
    "version": 3
   },
   "file_extension": ".py",
   "mimetype": "text/x-python",
   "name": "python",
   "nbconvert_exporter": "python",
   "pygments_lexer": "ipython3",
   "version": "3.10.4"
  },
  "orig_nbformat": 4,
  "vscode": {
   "interpreter": {
    "hash": "fb4569285eef3a3450cb62085a5b1e0da4bce0af555edc33dcf29baf3acc1368"
   }
  }
 },
 "nbformat": 4,
 "nbformat_minor": 2
}
